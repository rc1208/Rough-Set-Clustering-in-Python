{
 "cells": [
  {
   "cell_type": "code",
   "execution_count": 1,
   "metadata": {
    "collapsed": false
   },
   "outputs": [
    {
     "name": "stdout",
     "output_type": "stream",
     "text": [
      "3.5.2 |Anaconda 4.2.0 (64-bit)| (default, Jul  5 2016, 11:41:13) [MSC v.1900 64 bit (AMD64)]\n"
     ]
    }
   ],
   "source": [
    "_author_ = 'Rahul-Chowdhury'\n",
    "import pandas as pd\n",
    "import sys\n",
    "from collections import defaultdict\n",
    "import numpy as np\n",
    "print(sys.version)\n"
   ]
  },
  {
   "cell_type": "code",
   "execution_count": 2,
   "metadata": {
    "collapsed": false,
    "scrolled": true
   },
   "outputs": [
    {
     "name": "stdout",
     "output_type": "stream",
     "text": [
      "         V0  V1  V2  V3  V4  V5  V6  V7  V8  V9  V10  V11  V12  V13  V14  V15  \\\n",
      "0  aardvark   1   0   0   1   0   0   1   1   1    1    0    0    4    0    0   \n",
      "1  antelope   1   0   0   1   0   0   0   1   1    1    0    0    4    1    0   \n",
      "2      bass   0   0   1   0   0   1   1   1   1    0    0    1    0    1    0   \n",
      "3      bear   1   0   0   1   0   0   1   1   1    1    0    0    4    0    0   \n",
      "4      boar   1   0   0   1   0   0   1   1   1    1    0    0    4    1    0   \n",
      "5   buffalo   1   0   0   1   0   0   0   1   1    1    0    0    4    1    0   \n",
      "6      calf   1   0   0   1   0   0   0   1   1    1    0    0    4    1    1   \n",
      "7      carp   0   0   1   0   0   1   0   1   1    0    0    1    0    1    1   \n",
      "8   catfish   0   0   1   0   0   1   1   1   1    0    0    1    0    1    0   \n",
      "9      cavy   1   0   0   1   0   0   0   1   1    1    0    0    4    0    1   \n",
      "\n",
      "   V16  V17  \n",
      "0    1    1  \n",
      "1    1    1  \n",
      "2    0    4  \n",
      "3    1    1  \n",
      "4    1    1  \n",
      "5    1    1  \n",
      "6    1    1  \n",
      "7    0    4  \n",
      "8    0    4  \n",
      "9    0    1  \n"
     ]
    }
   ],
   "source": [
    "target_url = (\"https://archive.ics.uci.edu/ml/machine-learning-databases/zoo/zoo.data\")\n",
    "Data = pd.read_csv(target_url,header=None, prefix = \"V\")\n",
    "#zooData = pd.DataFrame([{'V0':0,'V1':2, 'V2':1},{'V0':0,'V1':2, 'V2':1},{'V0':0,'V1':2, 'V2':1}])\n",
    "print(Data.head(10))\n",
    "k = len(list(Data['V17'].unique())) #counting the number of classes in the last column\n",
    "\n",
    "Data = Data.drop(Data.columns[[0, 17]], axis=1) #removing 1st and last column\n",
    "Data.head(10)\n",
    "equiv_class_dict = {} #dictionary storing equiv classes for all attribute\n",
    "for col in Data:\n",
    "    equiv_class_dict[col] =list(Data.groupby([col]))\n",
    "roughness_list_dict = defaultdict(dict) #needed to use 2D dictionary \n"
   ]
  },
  {
   "cell_type": "code",
   "execution_count": null,
   "metadata": {
    "collapsed": false
   },
   "outputs": [],
   "source": [
    "\n",
    "\n",
    "\n",
    "def MMeR(U,k):\n",
    "    C = {} #the clusters made through MMeR alogrithm\n",
    "    C_distance = {} #the clusters distance\n",
    "    index = 0\n",
    "    #Rough_Data = U\n",
    "    \n",
    "   \n",
    "\n",
    "    while(3>len(C.keys())):\n",
    "        \n",
    "        split_attr = mmer_roughness(U)\n",
    "        min_roughness_attr_value = min(roughness_list_dict[split_attr]) #find the min. value of min_roughness_attr for which alpha is minimum\n",
    "        cluster1 = Data[Data[split_attr] == min_roughness_attr_value].index.tolist()\n",
    "        cluster1_distance = cluster_distance(cluster1)\n",
    "        cluster2 = Data.loc[Data[split_attr] != min_roughness_attr_value].index.tolist()\n",
    "        cluster2_distance = cluster_distance(cluster2)\n",
    "        C[index] = cluster1\n",
    "        C_distance[index] = cluster1_distance\n",
    "        print(cluster1_distance)\n",
    "        print(cluster2_distance)\n",
    "        index += 1\n",
    "        C[index] = cluster2\n",
    "        C_distance[index] = cluster2_distance\n",
    "        max_index = max(C_distance, key= C_distance.get) #find the index with the max cluster distance\n",
    "        print(\"C length:\",len(C.keys()))\n",
    "        for key in C:\n",
    "         print(\"Cluster\",key,C[key])\n",
    "        U = U.ix[C[max_index]]  #send data of cluster with max distance\n",
    "        del C[max_index]\n",
    "        del C_distance[max_index]\n",
    "        \n",
    "    \n",
    "\n",
    "\n",
    "    \n",
    "    \n",
    "def roughness(col_name1, col_name2, val):\n",
    "     arr = equiv_class_dict[col_name2] #group equiv classes according to column2\n",
    "     target_set = Data[Data[col_name1] == val].index.tolist() #calculating target set for each unique value in column1\n",
    "     lower_approx = []\n",
    "     upper_approx = []\n",
    "     for name,group in arr:\n",
    "       selected_list = list(group.index)\n",
    "       if(set(selected_list).issubset(target_set)): #if a subset, then append to lower_approx\n",
    "            lower_approx.append(selected_list)\n",
    "       if(set(selected_list) & set(target_set)): #if intersection is not null, then append to upper_approx\n",
    "            upper_approx.append(selected_list)\n",
    "     lower_approx_count = sum(map(len, lower_approx)) #count the no. of elements in lower_approx\n",
    "     upper_approx_count = sum(map(len, upper_approx))\n",
    "     if(lower_approx_count == 0):\n",
    "        roughness = 1\n",
    "     else:   \n",
    "         roughness = 1 - (lower_approx_count/upper_approx_count) # return roughness for a(i) = alpha\n",
    "     return roughness\n",
    "\n",
    "\n",
    "\n",
    "def cluster_distance(cluster):\n",
    "        distance = 0\n",
    "        for i in range(len(cluster)-1):\n",
    "              a = np.array(Data.iloc[cluster[i]])\n",
    "              for k in range(i+1,len(cluster)):\n",
    "                   b = np.array(Data.iloc[cluster[k]])\n",
    "                   distance += sum(a != b) \n",
    "\n",
    "        final_distance = (2 * distance)/(len(cluster) * (len(cluster)-1))       \n",
    "        return final_distance\n",
    "\n",
    "    \n",
    "def mmer_roughness(Data):\n",
    "    min_mean_roughness = {} #array to store the minimum of average of roughness of each attr\n",
    "    for col1 in Data:\n",
    "        values_in_col_name1 =  list(Data[col1].unique()) #extracting each unique value in column1\n",
    "        mean_roughness = [] #list for mean roughness for a(i) = alpha\n",
    "        for val in values_in_col_name1:\n",
    "            roughness_list = [] #array of a(i) = alpha w.r.t. other columns \n",
    "            for col2 in Data:\n",
    "                if(col1!= col2): #not to be compared with itself\n",
    "                  roughness_list.append(roughness(col1 , col2, val))\n",
    "            mean_roughness.append(sum(roughness_list)/float(len(roughness_list)))\n",
    "            roughness_list_dict[col1][val] = sum(roughness_list)/float(len(roughness_list))\n",
    "        min_mean_roughness[col1]=(min(mean_roughness))\n",
    "    #for key in min_mean_roughness:\n",
    "        #print(key, min_mean_roughness[key]) \n",
    "    min_roughness_attr = min(min_mean_roughness, key=min_mean_roughness.get) #find the attr with minimum roughness\n",
    "\n",
    "    return min_roughness_attr\n",
    "     \n",
    "\n",
    "    \n",
    "MMeR(Data,k) \n",
    "\n",
    "\n",
    "\n",
    "          "
   ]
  },
  {
   "cell_type": "code",
   "execution_count": null,
   "metadata": {
    "collapsed": true
   },
   "outputs": [],
   "source": []
  },
  {
   "cell_type": "code",
   "execution_count": null,
   "metadata": {
    "collapsed": true
   },
   "outputs": [],
   "source": []
  }
 ],
 "metadata": {
  "anaconda-cloud": {},
  "kernelspec": {
   "display_name": "Python [default]",
   "language": "python",
   "name": "python3"
  },
  "language_info": {
   "codemirror_mode": {
    "name": "ipython",
    "version": 3
   },
   "file_extension": ".py",
   "mimetype": "text/x-python",
   "name": "python",
   "nbconvert_exporter": "python",
   "pygments_lexer": "ipython3",
   "version": "3.5.2"
  }
 },
 "nbformat": 4,
 "nbformat_minor": 1
}
