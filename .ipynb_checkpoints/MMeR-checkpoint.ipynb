{
 "cells": [
  {
   "cell_type": "code",
   "execution_count": 4,
   "metadata": {
    "collapsed": false
   },
   "outputs": [
    {
     "name": "stdout",
     "output_type": "stream",
     "text": [
      "3.5.2 |Anaconda 4.2.0 (64-bit)| (default, Jul  5 2016, 11:41:13) [MSC v.1900 64 bit (AMD64)]\n"
     ]
    }
   ],
   "source": [
    "_author_ = 'Rahul-Chowdhury'\n",
    "import pandas as pd\n",
    "import sys\n",
    "print(sys.version)\n"
   ]
  },
  {
   "cell_type": "code",
   "execution_count": 5,
   "metadata": {
    "collapsed": false,
    "scrolled": true
   },
   "outputs": [
    {
     "name": "stdout",
     "output_type": "stream",
     "text": [
      "         V0  V1  V2  V3  V4  V5  V6  V7  V8  V9  V10  V11  V12  V13  V14  V15  \\\n",
      "0  aardvark   1   0   0   1   0   0   1   1   1    1    0    0    4    0    0   \n",
      "1  antelope   1   0   0   1   0   0   0   1   1    1    0    0    4    1    0   \n",
      "2      bass   0   0   1   0   0   1   1   1   1    0    0    1    0    1    0   \n",
      "3      bear   1   0   0   1   0   0   1   1   1    1    0    0    4    0    0   \n",
      "4      boar   1   0   0   1   0   0   1   1   1    1    0    0    4    1    0   \n",
      "\n",
      "   V16  V17  \n",
      "0    1    1  \n",
      "1    1    1  \n",
      "2    0    4  \n",
      "3    1    1  \n",
      "4    1    1  \n"
     ]
    }
   ],
   "source": [
    "target_url = (\"https://archive.ics.uci.edu/ml/machine-learning-databases/zoo/zoo.data\")\n",
    "zooData = pd.read_csv(target_url,header=None, prefix = \"V\")\n",
    "print(zooData.head())\n",
    "\n"
   ]
  },
  {
   "cell_type": "code",
   "execution_count": null,
   "metadata": {
    "collapsed": true
   },
   "outputs": [],
   "source": []
  }
 ],
 "metadata": {
  "anaconda-cloud": {},
  "kernelspec": {
   "display_name": "Python [default]",
   "language": "python",
   "name": "python3"
  },
  "language_info": {
   "codemirror_mode": {
    "name": "ipython",
    "version": 3
   },
   "file_extension": ".py",
   "mimetype": "text/x-python",
   "name": "python",
   "nbconvert_exporter": "python",
   "pygments_lexer": "ipython3",
   "version": "3.5.2"
  }
 },
 "nbformat": 4,
 "nbformat_minor": 1
}
